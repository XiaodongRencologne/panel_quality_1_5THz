{
 "cells": [
  {
   "cell_type": "code",
   "execution_count": 18,
   "metadata": {},
   "outputs": [
    {
     "data": {
      "text/plain": [
       "'\\nimport model;\\nfrom model import model;\\nfrom model import spheroidal_grid as field_grid;\\nfrom model import Transform_local2global as local2global;\\nfrom model import Transform_global2local as global2local;\\nfrom model import cartesian_to_spherical as cart2spher;\\n'"
      ]
     },
     "execution_count": 18,
     "metadata": {},
     "output_type": "execute_result"
    }
   ],
   "source": [
    "import numpy as np;\n",
    "import torch as T;\n",
    "import copy;\n",
    "import time;\n",
    "\n",
    "\n",
    "\n",
    "'''\n",
    "import model;\n",
    "from model import model;\n",
    "from model import spheroidal_grid as field_grid;\n",
    "from model import Transform_local2global as local2global;\n",
    "from model import Transform_global2local as global2local;\n",
    "from model import cartesian_to_spherical as cart2spher;\n",
    "'''\n"
   ]
  },
  {
   "cell_type": "code",
   "execution_count": 19,
   "metadata": {},
   "outputs": [],
   "source": [
    "'''\n",
    "1. def a class for complex values;\n",
    "'''\n",
    "class Complex:\n",
    "    def __init__(self):\n",
    "        self.real=np.array([]);\n",
    "        self.imag=np.array([]);\n",
    "        \n",
    "    def np2Tensor(self):\n",
    "        self.real=T.tensor(self.real);\n",
    "        self.imag=T.tensor(self.imag);"
   ]
  },
  {
   "cell_type": "code",
   "execution_count": null,
   "metadata": {},
   "outputs": [],
   "source": [
    "'''\n",
    "2. define a Kirchhoff intergration\n",
    "'''\n",
    "def PO_scalar(m1,m1_n,m1_dA,m2,cos_i,Field_in,k,Keepmatrix=False):\n",
    "    # output field:\n",
    "    Field=Complex();\n",
    "    Field.real=np.zeros(m2.x.size()[0]);\n",
    "    Field.imag=np.zeros(m2.x.size()[0]);\n",
    "    # the matrix\n",
    "    Matrix1=Complex();\n",
    "    if Keepmatrix:\n",
    "        Matrix1.real=np.zeros((m2.x.size()[0],m1.x.size()[0]));\n",
    "        Matrix1.imag=np.zeros((m2.x.size()[0],m1.x.size()[0]));\n",
    "        #Matrix1.np2Tensor();\n",
    "        for i in range(m2.x.size):\n",
    "            x=m2.x[i]-m1.x.reshape(1,-1);\n",
    "            y=m2.y[i]-m1.y.reshape(1,-1);\n",
    "            z=m2.z[i]-m1.z.reshape(1,-1);\n",
    "            r=np.sqrt(x**2+y**2+z**2);\n",
    "            cos_r=np.abs(x*m1_n.x.reshape(1,-1)+y*m1_n.y.reshape(1,-1)+z*m1_n.z.reshape(1,-1))/r;\n",
    "            cos=(np.abs(cos_r)+np.abs(cos_i.reshape(1,-1)))/2;\n",
    "\n",
    "            Amp=1/r*m1.N*m1_dA/2/np.pi*np.abs(k)*cos;        \n",
    "            phase=-k*r;\n",
    "        \n",
    "            Matrix1.real[i,...]=Amp*T.cos(phase);\n",
    "            Matrix1.imag[i,...]=Amp*T.sin(phase);\n",
    "            Field.real[i]=(Matrix1.real[i,...]*Field_in.real.view(1,-1)-Matrix1.imag[i,...]*Field_in.imag.view(1,-1)).sum();\n",
    "            Field.imag[i]=(Matrix1.real[i,...]*Field_in.imag.view(1,-1)+Matrix1.imag[i,...]*Field_in.real.view(1,-1)).sum();\n",
    "        \n",
    "    else:\n",
    "        \n",
    "        for i in range(m2.x.size):\n",
    "            x=m2.x[i]-m1.x.reshape(1,-1);\n",
    "            y=m2.y[i]-m1.y.reshape(1,-1);\n",
    "            z=m2.z[i]-m1.z.reshape(1,-1);\n",
    "            r=np.sqrt(x**2+y**2+z**2);\n",
    "            cos_r=np.abs(x*m1_n.x.reshape(1,-1)+y*m1_n.y.reshape(1,-1)+z*m1_n.z.reshape(1,-1))/r;\n",
    "            cos=(np.abs(cos_r)+np.abs(cos_i.reshape(1,-1)))/2;\n",
    "\n",
    "            Amp=1/r*m1.N*m1_dA/2/np.pi*np.abs(k)*cos;        \n",
    "            phase=-k*r;\n",
    "        \n",
    "            Matrix1.real=Amp*np.cos(phase);\n",
    "            Matrix1.imag=Amp*np.sin(phase);\n",
    "            Field.real[i]=(Matrix1.real*Field_in.real.ravel()-Matrix1.imag*Field_in.imag.ravel()).sum();\n",
    "            Field.imag[i]=(Matrix1.real*Field_in.imag.ravel()+Matrix1.imag*Field_in.real.ravel()).sum();\n",
    "            \n",
    "    return Matrix1,Field\n",
    "        \n",
    "    \n",
    "        \n",
    "    \n",
    "    "
   ]
  },
  {
   "cell_type": "code",
   "execution_count": null,
   "metadata": {},
   "outputs": [],
   "source": []
  }
 ],
 "metadata": {
  "kernelspec": {
   "display_name": "Python 3",
   "language": "python",
   "name": "python3"
  },
  "language_info": {
   "codemirror_mode": {
    "name": "ipython",
    "version": 3
   },
   "file_extension": ".py",
   "mimetype": "text/x-python",
   "name": "python",
   "nbconvert_exporter": "python",
   "pygments_lexer": "ipython3",
   "version": "3.7.3"
  }
 },
 "nbformat": 4,
 "nbformat_minor": 2
}
