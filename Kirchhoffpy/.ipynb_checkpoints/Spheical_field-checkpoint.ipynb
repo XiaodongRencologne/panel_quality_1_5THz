{
 "cells": [
  {
   "cell_type": "code",
   "execution_count": 1,
   "metadata": {},
   "outputs": [
    {
     "ename": "ModuleNotFoundError",
     "evalue": "No module named '__main__.coordinate_operations'; '__main__' is not a package",
     "output_type": "error",
     "traceback": [
      "\u001b[0;31m---------------------------------------------------------------------------\u001b[0m",
      "\u001b[0;31mModuleNotFoundError\u001b[0m                       Traceback (most recent call last)",
      "\u001b[0;32m<ipython-input-1-ee46727374e4>\u001b[0m in \u001b[0;36m<module>\u001b[0;34m\u001b[0m\n\u001b[1;32m      1\u001b[0m \u001b[0;32mimport\u001b[0m \u001b[0mnumpy\u001b[0m \u001b[0;32mas\u001b[0m \u001b[0mnp\u001b[0m\u001b[0;34m;\u001b[0m\u001b[0;34m\u001b[0m\u001b[0;34m\u001b[0m\u001b[0m\n\u001b[0;32m----> 2\u001b[0;31m \u001b[0;32mfrom\u001b[0m \u001b[0;34m.\u001b[0m\u001b[0mcoordinate_operations\u001b[0m \u001b[0;32mimport\u001b[0m \u001b[0mCoord\u001b[0m\u001b[0;34m;\u001b[0m\u001b[0;34m\u001b[0m\u001b[0;34m\u001b[0m\u001b[0m\n\u001b[0m\u001b[1;32m      3\u001b[0m \u001b[0;32mfrom\u001b[0m \u001b[0;34m.\u001b[0m\u001b[0mcoordinate_operations\u001b[0m \u001b[0;32mimport\u001b[0m \u001b[0mTransform_local2global\u001b[0m \u001b[0;32mas\u001b[0m \u001b[0mlocal2global\u001b[0m\u001b[0;34m;\u001b[0m\u001b[0;34m\u001b[0m\u001b[0;34m\u001b[0m\u001b[0m\n\u001b[1;32m      4\u001b[0m \u001b[0;32mfrom\u001b[0m \u001b[0;34m.\u001b[0m\u001b[0mcoordinate_operations\u001b[0m \u001b[0;32mimport\u001b[0m \u001b[0mTransform_global2local\u001b[0m \u001b[0;32mas\u001b[0m \u001b[0mglobal2local\u001b[0m\u001b[0;34m;\u001b[0m\u001b[0;34m\u001b[0m\u001b[0;34m\u001b[0m\u001b[0m\n",
      "\u001b[0;31mModuleNotFoundError\u001b[0m: No module named '__main__.coordinate_operations'; '__main__' is not a package"
     ]
    }
   ],
   "source": [
    "import numpy as np;\n",
    "from .coordinate_operations import Coord;\n",
    "from .coordinate_operations import Transform_local2global as local2global;\n",
    "from .coordinate_operations import Transform_global2local as global2local;"
   ]
  },
  {
   "cell_type": "code",
   "execution_count": null,
   "metadata": {},
   "outputs": [],
   "source": [
    "def spheroidal_grid(umin,umax,vmin,vmax,\n",
    "                    Nu,Nv,\n",
    "                    FIELD='far',\n",
    "                    Type='uv',\n",
    "                    filename='',\n",
    "                    distance=300*10**3):\n",
    "    FIELD=FIELD.lower();\n",
    "    cut=Coord();\n",
    "    if filename=='':\n",
    "        grid=np.moveaxis(np.meshgrid(np.linspace(umin,umax,Nu),np.linspace(vmin,vmax,Nv)),0,-1);\n",
    "        cut.x=grid[...,0].ravel();\n",
    "        cut.y=grid[...,-1].ravel();\n",
    "    else:\n",
    "        grid=read_angular_grid(filename);\n",
    "        cut.x=grid[...,0].ravel()/180*np.pi;\n",
    "        cut.y=grid[...,1].ravel()/180*np.pi;\n",
    "        \n",
    "    Grid_type={'uv':     lambda x,y: (x,y,np.sqrt(1-(x**2+y**2))),\n",
    "               'EloverAz':lambda x,y: (-np.sin(x)*np.cos(y),np.sin(y),np.cos(x)*np.cos(y))\n",
    "              }\n",
    "    #cutw=model();\n",
    "    cut.x,cut.y,cut.z=Grid_type[Type](cut.x,cut.y);\n",
    "    \n",
    "    if FIELD=='far':\n",
    "        \n",
    "        pass;\n",
    "    elif FIELD=='near':\n",
    "        cut.x=distance*cut.x;\n",
    "        cut.y=distance*cut.y;\n",
    "        cut.z=distance*cut.z;\n",
    "    else:\n",
    "        print(\"don't support FIELD=\",FIELD);\n",
    "    \n",
    "    \n",
    "    return cut;"
   ]
  },
  {
   "cell_type": "code",
   "execution_count": null,
   "metadata": {},
   "outputs": [],
   "source": []
  }
 ],
 "metadata": {
  "kernelspec": {
   "display_name": "Python 3",
   "language": "python",
   "name": "python3"
  },
  "language_info": {
   "codemirror_mode": {
    "name": "ipython",
    "version": 3
   },
   "file_extension": ".py",
   "mimetype": "text/x-python",
   "name": "python",
   "nbconvert_exporter": "python",
   "pygments_lexer": "ipython3",
   "version": "3.7.3"
  }
 },
 "nbformat": 4,
 "nbformat_minor": 2
}
