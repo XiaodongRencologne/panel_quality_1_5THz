{
 "cells": [
  {
   "cell_type": "code",
   "execution_count": 2,
   "metadata": {},
   "outputs": [],
   "source": [
    "'''\n",
    "This package provides N input beams, and each beam function can offer scalar and vector modes.\n",
    "1. Gaussian beam in far field;\n",
    "2. Gaussian beam near field;\n",
    "'''\n",
    "\n",
    "import numpy as np;\n",
    "from vector_operations import coplarvector;\n",
    "from coordinate_operations import cartesian_to_spherical as cart2spher;\n"
   ]
  },
  {
   "cell_type": "code",
   "execution_count": 5,
   "metadata": {},
   "outputs": [],
   "source": [
    "'''\n",
    "Type 1: Gaussian beam;\n",
    "'''\n",
    "\n",
    "def Gaussibeam(Edge_taper,Edge_angle,k,Mirror_in,polarization='scalar'):\n",
    "    '''\n",
    "    param 1: 'Edge_taper' define ratio of maximum power and the edge power in the antenna;\n",
    "    param 2: 'Edge_angle' is the angular size of the mirror seen from the feed coordinates;\n",
    "    param 3: 'k' wave number;\n",
    "    param 4: 'Mirror_in' the sampling points in the mirror illumanited by feed;\n",
    "    param 5: 'fieldtype' chose the scalar mode or vector input field.\n",
    "    '''\n",
    "    if polarization.lower()=='scalar':\n",
    "        Edge_taper=np.abs(Edge_taper);\n",
    "        waist2=20*np.log10(np.exp(1)*Edge_angle**2/Edge_taper);\n",
    "        r,theta,phi=cart2spher(Mirror_in.x,Mirror_in.y,Mirror_in.z);        \n",
    "        Amp=1000*np.exp(-theta**2/w2)/r;\n",
    "        Phase0=-k*r;\n",
    "        Field_R=Amp*np.cos(Phase0);\n",
    "        Field_I=Amp*np.sin(Phase0);\n",
    "        \n",
    "        return Field_R,Field_I,r;\n",
    "    \n",
    "    elif polarization.lower()=='x':\n",
    "        \n",
    "        r,theta,phi=cart2spher(m.x,m.y,m.z);\n",
    "        co,cx,crho=coplarvector(theta,phi);        \n",
    "        b=(20*np.log10((1+np.cos(Edge_angle))/2)+np.abs(Edge_taper))/(20*k*(1-np.cos(Edge_angle))*np.log10(np.exp(1)));        \n",
    "        Amp=100/(k*r)*np.exp(k*b*np.cos(theta))*(1+np.cos(theta));\n",
    "        N0=np.exp(k*b)*2; \n",
    "        Amp=Amp/N0;\n",
    "        Phase0=-k*r;\n",
    "        amp=Amp*np.exp(1j*Phase0);\n",
    "        E=scalarproduct(amp,co);\n",
    "        H=scalarproduct(amp,cx);\n",
    "        return E,H,r\n",
    "        \n",
    "    elif polarization.lower()=='y':\n",
    "        \n",
    "        r,theta,phi=cart2spher(m.x,m.y,m.z);\n",
    "        co,cx,crho=coplarvector(theta,phi);        \n",
    "        b=(20*np.log10((1+np.cos(Edge_angle))/2)+np.abs(Edge_taper))/(20*k*(1-np.cos(Edge_angle))*np.log10(np.exp(1)));        \n",
    "        Amp=100/(k*r)*np.exp(k*b*np.cos(theta))*(1+np.cos(theta));\n",
    "        N0=np.exp(k*b)*2; \n",
    "        Amp=Amp/N0;\n",
    "        Phase0=-k*r;\n",
    "        amp=Amp*np.exp(1j*Phase0);\n",
    "        H=scalarproduct(amp,co);\n",
    "        E=scalarproduct(amp,cx);\n",
    "        return E,H,r\n",
    "    \n",
    "    \n",
    "    "
   ]
  }
 ],
 "metadata": {
  "kernelspec": {
   "display_name": "Python 3",
   "language": "python",
   "name": "python3"
  },
  "language_info": {
   "codemirror_mode": {
    "name": "ipython",
    "version": 3
   },
   "file_extension": ".py",
   "mimetype": "text/x-python",
   "name": "python",
   "nbconvert_exporter": "python",
   "pygments_lexer": "ipython3",
   "version": "3.7.3"
  }
 },
 "nbformat": 4,
 "nbformat_minor": 2
}
