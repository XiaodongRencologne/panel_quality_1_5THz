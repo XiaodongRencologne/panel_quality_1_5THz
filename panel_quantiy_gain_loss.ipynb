{
 "cells": [
  {
   "cell_type": "code",
   "execution_count": 1,
   "metadata": {},
   "outputs": [],
   "source": [
    "import numpy as np\n",
    "import matplotlib.pyplot as plt\n",
    "from fitting_error_plot import field_m1"
   ]
  },
  {
   "cell_type": "code",
   "execution_count": 2,
   "metadata": {},
   "outputs": [],
   "source": [
    "d0=np.genfromtxt('output/panel_quality/gainloss/gain_900GHz.txt',delimiter=',');d0=(d0[...,0]+1j*d0[...,1]).reshape(101,-1)\n",
    "d1=np.genfromtxt('output/panel_quality/gainloss/gain_before_fitting_900GHz_only_panelerror.txt',delimiter=',');d1=(d1[...,0]+1j*d1[...,1]).reshape(101,-1)\n",
    "d2=np.genfromtxt('output/panel_quality/gainloss/gain_after_fitting_900GHz_only_panelerror.txt',delimiter=',');d2=(d2[...,0]+1j*d2[...,1]).reshape(101,-1)"
   ]
  },
  {
   "cell_type": "code",
   "execution_count": 7,
   "metadata": {},
   "outputs": [
    {
     "name": "stdout",
     "output_type": "stream",
     "text": [
      "0.9945702443431874 0.9949035048081852\n"
     ]
    }
   ],
   "source": [
    "r2=(np.abs(d2).max()/np.abs(d0).max())\n",
    "r1=(np.abs(d1).max()/np.abs(d0).max())\n",
    "print(r1,r2)"
   ]
  },
  {
   "cell_type": "code",
   "execution_count": 4,
   "metadata": {},
   "outputs": [
    {
     "data": {
      "text/plain": [
       "1.955912125318227"
      ]
     },
     "execution_count": 4,
     "metadata": {},
     "output_type": "execute_result"
    }
   ],
   "source": [
    "freq=900*10**(9)\n",
    "c=299792458;\n",
    "Lambda=c/freq*1000000\n",
    "np.sqrt(-np.log10(r1)/np.log10(np.exp(1)))*Lambda/4/np.pi"
   ]
  },
  {
   "cell_type": "code",
   "execution_count": 5,
   "metadata": {},
   "outputs": [
    {
     "data": {
      "text/plain": [
       "1.8947794350189633"
      ]
     },
     "execution_count": 5,
     "metadata": {},
     "output_type": "execute_result"
    }
   ],
   "source": [
    "np.sqrt(-np.log10(r2)/np.log10(np.exp(1)))*Lambda/4/np.pi"
   ]
  },
  {
   "cell_type": "code",
   "execution_count": 6,
   "metadata": {},
   "outputs": [
    {
     "data": {
      "text/plain": [
       "18309.72008313427"
      ]
     },
     "execution_count": 6,
     "metadata": {},
     "output_type": "execute_result"
    }
   ],
   "source": [
    "(np.abs(d1-d0)**2).mean()"
   ]
  },
  {
   "cell_type": "code",
   "execution_count": 32,
   "metadata": {},
   "outputs": [
    {
     "data": {
      "text/plain": [
       "27328.83770847948"
      ]
     },
     "execution_count": 32,
     "metadata": {},
     "output_type": "execute_result"
    }
   ],
   "source": [
    "(np.abs(d2-d0)**2).mean()"
   ]
  },
  {
   "cell_type": "code",
   "execution_count": 33,
   "metadata": {},
   "outputs": [
    {
     "data": {
      "text/plain": [
       "9804.640131074022"
      ]
     },
     "execution_count": 33,
     "metadata": {},
     "output_type": "execute_result"
    }
   ],
   "source": [
    "(np.abs(d2-d1)**2).mean()"
   ]
  },
  {
   "cell_type": "code",
   "execution_count": 39,
   "metadata": {},
   "outputs": [
    {
     "data": {
      "text/plain": [
       "[<matplotlib.lines.Line2D at 0x7f689e135240>]"
      ]
     },
     "execution_count": 39,
     "metadata": {},
     "output_type": "execute_result"
    },
    {
     "data": {
      "image/png": "[encoded data removed]",
      "text/plain": [
       "<Figure size 432x288 with 1 Axes>"
      ]
     },
     "metadata": {
      "needs_background": "light"
     },
     "output_type": "display_data"
    }
   ],
   "source": [
    "plt.plot(np.abs(d1[50,...]))\n",
    "plt.plot(np.abs(d2[50,...]))\n",
    "plt.plot(np.abs(d0[50,...]))"
   ]
  },
  {
   "cell_type": "code",
   "execution_count": null,
   "metadata": {},
   "outputs": [],
   "source": [
    "plt.plot(np.abs(d1[50,...]))\n",
    "#plt.plot(np.abs(d2[50,...]))\n",
    "plt.plot(np.abs(d0[50,...]))"
   ]
  }
 ],
 "metadata": {
  "kernelspec": {
   "display_name": "Python 3 (ipykernel)",
   "language": "python",
   "name": "python3"
  },
  "language_info": {
   "codemirror_mode": {
    "name": "ipython",
    "version": 3
   },
   "file_extension": ".py",
   "mimetype": "text/x-python",
   "name": "python",
   "nbconvert_exporter": "python",
   "pygments_lexer": "ipython3",
   "version": "3.7.4"
  }
 },
 "nbformat": 4,
 "nbformat_minor": 2
}
